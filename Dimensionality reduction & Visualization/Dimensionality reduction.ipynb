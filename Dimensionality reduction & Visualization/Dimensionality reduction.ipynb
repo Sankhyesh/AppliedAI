{
 "cells": [
  {
   "cell_type": "markdown",
   "metadata": {},
   "source": [
    "2-D and 3-D : scatter plot\n",
    "    \n",
    "4-D, 5-D and 6-D : pair plot\n",
    "    \n",
    "10-D, 100-D, 1000-D : n-D data has ⁿC₂ scatter plots / pair plots.\n",
    "    \n",
    "Hence, reduce n-D data to 2-D or 3-D so that we can visualize the data.\n",
    "- Principle Component Analysis (PCA) : old technique\n",
    "- t-Stochastic Neighborhood Embedding (t-SNE) : state of the art in visualizing high dimensional data"
   ]
  },
  {
   "cell_type": "code",
   "execution_count": null,
   "metadata": {},
   "outputs": [],
   "source": []
  }
 ],
 "metadata": {
  "kernelspec": {
   "display_name": "Python 3",
   "language": "python",
   "name": "python3"
  },
  "language_info": {
   "codemirror_mode": {
    "name": "ipython",
    "version": 3
   },
   "file_extension": ".py",
   "mimetype": "text/x-python",
   "name": "python",
   "nbconvert_exporter": "python",
   "pygments_lexer": "ipython3",
   "version": "3.6.4"
  }
 },
 "nbformat": 4,
 "nbformat_minor": 2
}
